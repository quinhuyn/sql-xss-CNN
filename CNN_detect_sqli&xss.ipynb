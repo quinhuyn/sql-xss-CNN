{
  "nbformat": 4,
  "nbformat_minor": 0,
  "metadata": {
    "accelerator": "GPU",
    "colab": {
      "name": "CNN detect sqli&xss.ipynb",
      "provenance": [],
      "collapsed_sections": [],
      "include_colab_link": true
    },
    "kernelspec": {
      "display_name": "Python 3",
      "language": "python",
      "name": "python3"
    },
    "language_info": {
      "codemirror_mode": {
        "name": "ipython",
        "version": 3
      },
      "file_extension": ".py",
      "mimetype": "text/x-python",
      "name": "python",
      "nbconvert_exporter": "python",
      "pygments_lexer": "ipython3",
      "version": "3.7.7"
    }
  },
  "cells": [
    {
      "cell_type": "markdown",
      "metadata": {
        "id": "view-in-github",
        "colab_type": "text"
      },
      "source": [
        "<a href=\"https://colab.research.google.com/github/quinhuyn/sql-xss-CNN/blob/main/CNN_detect_sqli%26xss.ipynb\" target=\"_parent\"><img src=\"https://colab.research.google.com/assets/colab-badge.svg\" alt=\"Open In Colab\"/></a>"
      ]
    },
    {
      "cell_type": "code",
      "metadata": {
        "id": "B-AbrUAgf3y2"
      },
      "source": [
        "import numpy as np\n",
        "import pandas as pd\n",
        "import glob\n",
        "import time\n",
        "import pandas as pd\n",
        "\n",
        "\n",
        "import os\n",
        "import matplotlib.pyplot as plt\n",
        "import keras\n",
        "from keras.utils import np_utils\n",
        "import cv2\n"
      ],
      "execution_count": null,
      "outputs": []
    },
    {
      "cell_type": "code",
      "metadata": {
        "colab": {
          "base_uri": "https://localhost:8080/",
          "height": 35
        },
        "id": "idMLNCZ0N4_K",
        "outputId": "d746d0c8-141f-41ab-9c53-51b71215083d"
      },
      "source": [
        "import tensorflow as tf\n",
        "tf.test.gpu_device_name()"
      ],
      "execution_count": null,
      "outputs": [
        {
          "output_type": "execute_result",
          "data": {
            "text/plain": [
              "'/device:GPU:0'"
            ]
          },
          "metadata": {
            "tags": []
          },
          "execution_count": 2
        }
      ]
    },
    {
      "cell_type": "code",
      "metadata": {
        "id": "4HgAzq_Y3lKe",
        "outputId": "4d696950-d8e5-4075-857c-e70653e2ee4e"
      },
      "source": [
        "cd /floyd/"
      ],
      "execution_count": null,
      "outputs": [
        {
          "output_type": "stream",
          "text": [
            "/floyd\n"
          ],
          "name": "stdout"
        }
      ]
    },
    {
      "cell_type": "markdown",
      "metadata": {
        "id": "UgEw9lWXDffo"
      },
      "source": [
        "**DATASET** 252871\n",
        "- Dataset được trích từ 5 nguồn:\n",
        "+ [https://github.com/client9/libinjection](https://github.com/client9/libinjection)\n",
        "+ [https://github.com/das-lab/deep-xss](https://github.com/das-lab/deep-xss)\n",
        "+ [https://github.com/Morzeux/HttpParamsDataset](https://github.com/Morzeux/HttpParamsDataset)\n",
        "+ https://www.tic.itefi.csic.es/dataset/\n",
        "+ https://www.kaggle.com/syedsaqlainhussain/cross-site-scripting-xss-dataset-for-deep-learning\n"
      ]
    },
    {
      "cell_type": "code",
      "metadata": {
        "id": "vmhXlMU5f5iq"
      },
      "source": [
        "sql=pd.read_csv('/floyd/input/sqlxssnor/Sql_full.csv')\n",
        "xss=pd.read_csv('/floyd/input/sqlxssnor/Xss+kaggle_full.csv')\n",
        "nor=pd.read_csv('/floyd/input/sqlxssnor/Normal_full.csv')"
      ],
      "execution_count": null,
      "outputs": []
    },
    {
      "cell_type": "code",
      "metadata": {
        "id": "WeAtPWrr3lKg"
      },
      "source": [
        "sql['Label']=2\n",
        "xss['Label']=1\n",
        "nor['Label']=0"
      ],
      "execution_count": null,
      "outputs": []
    },
    {
      "cell_type": "code",
      "metadata": {
        "id": "Kqn1jf0f3lKg",
        "outputId": "750fca93-aa1f-4ab5-97ee-96bc93703cf7"
      },
      "source": [
        "sql.head()"
      ],
      "execution_count": null,
      "outputs": [
        {
          "output_type": "execute_result",
          "data": {
            "text/html": [
              "<div>\n",
              "<style scoped>\n",
              "    .dataframe tbody tr th:only-of-type {\n",
              "        vertical-align: middle;\n",
              "    }\n",
              "\n",
              "    .dataframe tbody tr th {\n",
              "        vertical-align: top;\n",
              "    }\n",
              "\n",
              "    .dataframe thead th {\n",
              "        text-align: right;\n",
              "    }\n",
              "</style>\n",
              "<table border=\"1\" class=\"dataframe\">\n",
              "  <thead>\n",
              "    <tr style=\"text-align: right;\">\n",
              "      <th></th>\n",
              "      <th>Sentence</th>\n",
              "      <th>Label</th>\n",
              "    </tr>\n",
              "  </thead>\n",
              "  <tbody>\n",
              "    <tr>\n",
              "      <th>0</th>\n",
              "      <td>1' where 6406=6406;select count(*) from rdb$fi...</td>\n",
              "      <td>2</td>\n",
              "    </tr>\n",
              "    <tr>\n",
              "      <th>1</th>\n",
              "      <td>1) and 8514=(select count(*) from domain.domai...</td>\n",
              "      <td>2</td>\n",
              "    </tr>\n",
              "    <tr>\n",
              "      <th>2</th>\n",
              "      <td>-3136%') or 3400=6002</td>\n",
              "      <td>2</td>\n",
              "    </tr>\n",
              "    <tr>\n",
              "      <th>3</th>\n",
              "      <td>1) where 7956=7956 or sleep(5)#</td>\n",
              "      <td>2</td>\n",
              "    </tr>\n",
              "    <tr>\n",
              "      <th>4</th>\n",
              "      <td>-7387'))) order by 1--</td>\n",
              "      <td>2</td>\n",
              "    </tr>\n",
              "  </tbody>\n",
              "</table>\n",
              "</div>"
            ],
            "text/plain": [
              "                                            Sentence  Label\n",
              "0  1' where 6406=6406;select count(*) from rdb$fi...      2\n",
              "1  1) and 8514=(select count(*) from domain.domai...      2\n",
              "2                              -3136%') or 3400=6002      2\n",
              "3                    1) where 7956=7956 or sleep(5)#      2\n",
              "4                             -7387'))) order by 1--      2"
            ]
          },
          "metadata": {
            "tags": []
          },
          "execution_count": 6
        }
      ]
    },
    {
      "cell_type": "code",
      "metadata": {
        "id": "H-mA-IAB3lKh",
        "outputId": "27159a16-417a-4968-eb3d-3dc7bb617783"
      },
      "source": [
        "xss.head()"
      ],
      "execution_count": null,
      "outputs": [
        {
          "output_type": "execute_result",
          "data": {
            "text/html": [
              "<div>\n",
              "<style scoped>\n",
              "    .dataframe tbody tr th:only-of-type {\n",
              "        vertical-align: middle;\n",
              "    }\n",
              "\n",
              "    .dataframe tbody tr th {\n",
              "        vertical-align: top;\n",
              "    }\n",
              "\n",
              "    .dataframe thead th {\n",
              "        text-align: right;\n",
              "    }\n",
              "</style>\n",
              "<table border=\"1\" class=\"dataframe\">\n",
              "  <thead>\n",
              "    <tr style=\"text-align: right;\">\n",
              "      <th></th>\n",
              "      <th>Sentence</th>\n",
              "      <th>Label</th>\n",
              "    </tr>\n",
              "  </thead>\n",
              "  <tbody>\n",
              "    <tr>\n",
              "      <th>0</th>\n",
              "      <td>&lt;tt onmouseover=\"alert(1)\"&gt;test&lt;/tt&gt;</td>\n",
              "      <td>1</td>\n",
              "    </tr>\n",
              "    <tr>\n",
              "      <th>1</th>\n",
              "      <td>&lt;a onblur=alert(1) tabindex=1 id=x&gt;&lt;/a&gt;&lt;input ...</td>\n",
              "      <td>1</td>\n",
              "    </tr>\n",
              "    <tr>\n",
              "      <th>2</th>\n",
              "      <td>&lt;col draggable=\"true\" ondragenter=\"alert(1)\"&gt;t...</td>\n",
              "      <td>1</td>\n",
              "    </tr>\n",
              "    <tr>\n",
              "      <th>3</th>\n",
              "      <td>&lt;caption onpointerdown=alert(1)&gt;XSS&lt;/caption&gt;</td>\n",
              "      <td>1</td>\n",
              "    </tr>\n",
              "    <tr>\n",
              "      <th>4</th>\n",
              "      <td>&lt;caption id=x tabindex=1 ondeactivate=alert(1)...</td>\n",
              "      <td>1</td>\n",
              "    </tr>\n",
              "  </tbody>\n",
              "</table>\n",
              "</div>"
            ],
            "text/plain": [
              "                                            Sentence  Label\n",
              "0               <tt onmouseover=\"alert(1)\">test</tt>      1\n",
              "1  <a onblur=alert(1) tabindex=1 id=x></a><input ...      1\n",
              "2  <col draggable=\"true\" ondragenter=\"alert(1)\">t...      1\n",
              "3      <caption onpointerdown=alert(1)>XSS</caption>      1\n",
              "4  <caption id=x tabindex=1 ondeactivate=alert(1)...      1"
            ]
          },
          "metadata": {
            "tags": []
          },
          "execution_count": 7
        }
      ]
    },
    {
      "cell_type": "code",
      "metadata": {
        "id": "cXaTMWFV3lKi",
        "outputId": "ea562371-487b-479f-c35b-c41e9850e97c"
      },
      "source": [
        "nor.head()"
      ],
      "execution_count": null,
      "outputs": [
        {
          "output_type": "execute_result",
          "data": {
            "text/html": [
              "<div>\n",
              "<style scoped>\n",
              "    .dataframe tbody tr th:only-of-type {\n",
              "        vertical-align: middle;\n",
              "    }\n",
              "\n",
              "    .dataframe tbody tr th {\n",
              "        vertical-align: top;\n",
              "    }\n",
              "\n",
              "    .dataframe thead th {\n",
              "        text-align: right;\n",
              "    }\n",
              "</style>\n",
              "<table border=\"1\" class=\"dataframe\">\n",
              "  <thead>\n",
              "    <tr style=\"text-align: right;\">\n",
              "      <th></th>\n",
              "      <th>Sentence</th>\n",
              "      <th>Label</th>\n",
              "    </tr>\n",
              "  </thead>\n",
              "  <tbody>\n",
              "    <tr>\n",
              "      <th>0</th>\n",
              "      <td>id=3</td>\n",
              "      <td>0</td>\n",
              "    </tr>\n",
              "    <tr>\n",
              "      <th>1</th>\n",
              "      <td>nombre=Vino+Rioja</td>\n",
              "      <td>0</td>\n",
              "    </tr>\n",
              "    <tr>\n",
              "      <th>2</th>\n",
              "      <td>precio=100</td>\n",
              "      <td>0</td>\n",
              "    </tr>\n",
              "    <tr>\n",
              "      <th>3</th>\n",
              "      <td>cantidad=55</td>\n",
              "      <td>0</td>\n",
              "    </tr>\n",
              "    <tr>\n",
              "      <th>4</th>\n",
              "      <td>B1=A%F1adir+al+carrito</td>\n",
              "      <td>0</td>\n",
              "    </tr>\n",
              "  </tbody>\n",
              "</table>\n",
              "</div>"
            ],
            "text/plain": [
              "                 Sentence  Label\n",
              "0                    id=3      0\n",
              "1       nombre=Vino+Rioja      0\n",
              "2              precio=100      0\n",
              "3             cantidad=55      0\n",
              "4  B1=A%F1adir+al+carrito      0"
            ]
          },
          "metadata": {
            "tags": []
          },
          "execution_count": 8
        }
      ]
    },
    {
      "cell_type": "code",
      "metadata": {
        "id": "GnOy4Cg93lKi",
        "outputId": "a0064176-f7ff-4ab3-be30-ae1bbcfd84e5"
      },
      "source": [
        "df=pd.concat([sql,xss,nor])\n",
        "df.reset_index(inplace=True, drop=True)\n",
        "print(len(df))\n",
        "df=df.drop_duplicates()\n",
        "df.reset_index(inplace=True, drop=True)\n",
        "print(\"size full dataset: \",len(df))"
      ],
      "execution_count": null,
      "outputs": [
        {
          "output_type": "stream",
          "text": [
            "240670\n",
            "size full dataset:  240667\n"
          ],
          "name": "stdout"
        }
      ]
    },
    {
      "cell_type": "code",
      "metadata": {
        "colab": {
          "base_uri": "https://localhost:8080/"
        },
        "id": "KzUZQRiCuWDz",
        "outputId": "af7582bd-6045-4ecc-d90c-8b9491877572"
      },
      "source": [
        "sql=df[df.Label == 2]\n",
        "print(\"Số lượng payload sql: \",len(sql))\n",
        "xss=df[df.Label == 1]\n",
        "print(\"Số lượng payload xss: \",len(xss))\n",
        "nor=df[df.Label == 0]\n",
        "print(\"Số lượng payload normal: \",len(nor))"
      ],
      "execution_count": null,
      "outputs": [
        {
          "output_type": "stream",
          "text": [
            "Số lượng payload sql:  89468\n",
            "Số lượng payload xss:  61418\n",
            "Số lượng payload normal:  89781\n"
          ],
          "name": "stdout"
        }
      ]
    },
    {
      "cell_type": "code",
      "metadata": {
        "id": "Qvp51UCGEpvE"
      },
      "source": [
        "#df.to_csv ('/content/drive/MyDrive/DATA/dataset/xss&sql.csv',index=None) "
      ],
      "execution_count": null,
      "outputs": []
    },
    {
      "cell_type": "code",
      "metadata": {
        "colab": {
          "base_uri": "https://localhost:8080/",
          "height": 204
        },
        "id": "gQJlhTthiAMg",
        "outputId": "80e777d6-375f-4f94-a9ae-15237bb136c7"
      },
      "source": [
        "df.head()"
      ],
      "execution_count": null,
      "outputs": [
        {
          "output_type": "execute_result",
          "data": {
            "text/html": [
              "<div>\n",
              "<style scoped>\n",
              "    .dataframe tbody tr th:only-of-type {\n",
              "        vertical-align: middle;\n",
              "    }\n",
              "\n",
              "    .dataframe tbody tr th {\n",
              "        vertical-align: top;\n",
              "    }\n",
              "\n",
              "    .dataframe thead th {\n",
              "        text-align: right;\n",
              "    }\n",
              "</style>\n",
              "<table border=\"1\" class=\"dataframe\">\n",
              "  <thead>\n",
              "    <tr style=\"text-align: right;\">\n",
              "      <th></th>\n",
              "      <th>Sentence</th>\n",
              "      <th>Label</th>\n",
              "    </tr>\n",
              "  </thead>\n",
              "  <tbody>\n",
              "    <tr>\n",
              "      <th>0</th>\n",
              "      <td>1' where 6406=6406;select count(*) from rdb$fi...</td>\n",
              "      <td>2</td>\n",
              "    </tr>\n",
              "    <tr>\n",
              "      <th>1</th>\n",
              "      <td>1) and 8514=(select count(*) from domain.domai...</td>\n",
              "      <td>2</td>\n",
              "    </tr>\n",
              "    <tr>\n",
              "      <th>2</th>\n",
              "      <td>-3136%') or 3400=6002</td>\n",
              "      <td>2</td>\n",
              "    </tr>\n",
              "    <tr>\n",
              "      <th>3</th>\n",
              "      <td>1) where 7956=7956 or sleep(5)#</td>\n",
              "      <td>2</td>\n",
              "    </tr>\n",
              "    <tr>\n",
              "      <th>4</th>\n",
              "      <td>-7387'))) order by 1--</td>\n",
              "      <td>2</td>\n",
              "    </tr>\n",
              "  </tbody>\n",
              "</table>\n",
              "</div>"
            ],
            "text/plain": [
              "                                            Sentence  Label\n",
              "0  1' where 6406=6406;select count(*) from rdb$fi...      2\n",
              "1  1) and 8514=(select count(*) from domain.domai...      2\n",
              "2                              -3136%') or 3400=6002      2\n",
              "3                    1) where 7956=7956 or sleep(5)#      2\n",
              "4                             -7387'))) order by 1--      2"
            ]
          },
          "metadata": {
            "tags": []
          },
          "execution_count": 12
        }
      ]
    },
    {
      "cell_type": "code",
      "metadata": {
        "colab": {
          "base_uri": "https://localhost:8080/"
        },
        "id": "8lD02RVLge1L",
        "outputId": "2a4831af-4035-49dc-eb96-1eb03f2a06ae"
      },
      "source": [
        "print(\"size \",df.shape)"
      ],
      "execution_count": null,
      "outputs": [
        {
          "output_type": "stream",
          "text": [
            "size  (240667, 2)\n"
          ],
          "name": "stdout"
        }
      ]
    },
    {
      "cell_type": "code",
      "metadata": {
        "colab": {
          "base_uri": "https://localhost:8080/",
          "height": 35
        },
        "id": "nDvWnZIg2hT2",
        "outputId": "ebf0b172-29b2-4f3c-e381-bfdbe2ca9f01"
      },
      "source": [
        "sentences=df['Sentence'].values\n",
        "sentences[1]"
      ],
      "execution_count": null,
      "outputs": [
        {
          "output_type": "execute_result",
          "data": {
            "text/plain": [
              "'1) and 8514=(select count(*) from domain.domains as t1,domain.columns as t2,domain.tables as t3) and (4666=4666'"
            ]
          },
          "metadata": {
            "tags": []
          },
          "execution_count": 14
        }
      ]
    },
    {
      "cell_type": "code",
      "metadata": {
        "colab": {
          "base_uri": "https://localhost:8080/"
        },
        "id": "ouAfMVm1sisu",
        "outputId": "d220f258-f875-43d0-ef19-a23fbbb79506"
      },
      "source": [
        "len(sentences)"
      ],
      "execution_count": null,
      "outputs": [
        {
          "output_type": "execute_result",
          "data": {
            "text/plain": [
              "240667"
            ]
          },
          "metadata": {
            "tags": []
          },
          "execution_count": 15
        }
      ]
    },
    {
      "cell_type": "code",
      "metadata": {
        "id": "8Agc-O_IjyFT"
      },
      "source": [
        "# Convert to ASCII\n",
        "def convert_to_ascii(sentence):\n",
        "    sentence_ascii=[]\n",
        "\n",
        "    for i in sentence: \n",
        "            if(ord(i)==8217): # ’  :  8217\n",
        "                sentence_ascii.append(133)\n",
        "            if(ord(i)==8221): # ”  :  8221\n",
        "                sentence_ascii.append(129)      \n",
        "            if(ord(i)==8220): # “  :  8220\n",
        "                sentence_ascii.append(130)\n",
        "            if(ord(i)==8216): # ‘  :  8216\n",
        "                sentence_ascii.append(131) \n",
        "            if(ord(i)==8211): # –  :  8211\n",
        "                sentence_ascii.append(132)  \n",
        "        \n",
        "            if (ord(i)<=128):\n",
        "                    sentence_ascii.append(ord(i)) \n",
        "            else:\n",
        "                    pass\n",
        "        \n",
        "        \n",
        "    zer=np.zeros((10000))\n",
        "\n",
        "    for i in range(len(sentence_ascii)):\n",
        "        zer[i]=sentence_ascii[i]\n",
        "\n",
        "    zer.shape=(100, 100)\n",
        "\n",
        "\n",
        "#    plt.plot(image)\n",
        "#    plt.show()\n",
        "    return zer"
      ],
      "execution_count": null,
      "outputs": []
    },
    {
      "cell_type": "code",
      "metadata": {
        "id": "Ndwg-ItgxGeG"
      },
      "source": [
        "# send each sentence to be converted to ASCII\n",
        "\n",
        "\n",
        "arr=np.zeros((len(sentences),100,100))\n",
        "\n",
        "for i in range(len(sentences)):\n",
        "    \n",
        "    image=convert_to_ascii(sentences[i])\n",
        "    x=np.asarray(image,dtype='float')\n",
        "    image =  cv2.resize(x, dsize=(100,100), interpolation=cv2.INTER_CUBIC)\n",
        "    image/=128\n",
        "    \n",
        "    arr[i]=image"
      ],
      "execution_count": null,
      "outputs": []
    },
    {
      "cell_type": "code",
      "metadata": {
        "colab": {
          "base_uri": "https://localhost:8080/"
        },
        "id": "ZmI6dZzaxPL7",
        "outputId": "37846243-50fc-4fa9-9ffa-3533d90782b9"
      },
      "source": [
        "print(\"Input data shape : \", arr.shape)"
      ],
      "execution_count": null,
      "outputs": [
        {
          "output_type": "stream",
          "text": [
            "Input data shape :  (240667, 100, 100)\n"
          ],
          "name": "stdout"
        }
      ]
    },
    {
      "cell_type": "code",
      "metadata": {
        "id": "iKf5J-ahpkMN"
      },
      "source": [
        "# Reshape data for input to CNN\n",
        "data = arr.reshape(arr.shape[0], 100, 100, 1)"
      ],
      "execution_count": null,
      "outputs": []
    },
    {
      "cell_type": "code",
      "metadata": {
        "colab": {
          "base_uri": "https://localhost:8080/"
        },
        "id": "6mkvzFzn0DA0",
        "outputId": "0841b8f8-c24c-4b42-ca1a-c862fb517307"
      },
      "source": [
        "data.shape"
      ],
      "execution_count": null,
      "outputs": [
        {
          "output_type": "execute_result",
          "data": {
            "text/plain": [
              "(240667, 100, 100, 1)"
            ]
          },
          "metadata": {
            "tags": []
          },
          "execution_count": 20
        }
      ]
    },
    {
      "cell_type": "code",
      "metadata": {
        "colab": {
          "base_uri": "https://localhost:8080/"
        },
        "id": "0_yCozwX0E-T",
        "outputId": "f3bbb862-155e-46f1-a225-a98f3c10aef3"
      },
      "source": [
        "y=df['Label'].values\n",
        "y[10]"
      ],
      "execution_count": null,
      "outputs": [
        {
          "output_type": "execute_result",
          "data": {
            "text/plain": [
              "2"
            ]
          },
          "metadata": {
            "tags": []
          },
          "execution_count": 21
        }
      ]
    },
    {
      "cell_type": "code",
      "metadata": {
        "id": "YvqSw9O10F8C"
      },
      "source": [
        "# Split into train/test data\n",
        "from sklearn.model_selection import train_test_split\n",
        "trainX, testX, trainY, testY = train_test_split(data,y, test_size=0.2, random_state=42)"
      ],
      "execution_count": null,
      "outputs": []
    },
    {
      "cell_type": "code",
      "metadata": {
        "colab": {
          "base_uri": "https://localhost:8080/"
        },
        "id": "-ZaB2Kv93ksE",
        "outputId": "4cf3ce36-a3bc-4ae8-ce4a-ee9e18a09602"
      },
      "source": [
        "print(\"trainX\",trainX.shape)\n",
        "print(\"testX\",testX.shape)"
      ],
      "execution_count": null,
      "outputs": [
        {
          "output_type": "stream",
          "text": [
            "trainX (192533, 100, 100, 1)\n",
            "testX (48134, 100, 100, 1)\n"
          ],
          "name": "stdout"
        }
      ]
    },
    {
      "cell_type": "code",
      "metadata": {
        "id": "BBLWvc0y3lKn",
        "outputId": "64ed08f7-58a2-4496-b73a-1ac31314f73f"
      },
      "source": [
        "sql=0\n",
        "xss=0\n",
        "nor=0\n",
        "for i in range(len(trainY)):\n",
        "    if trainY[i]==1:\n",
        "        xss+=1\n",
        "    elif trainY[i]==2:\n",
        "        sql+=1\n",
        "    else:\n",
        "        nor +=1\n",
        "anomalous= xss+sql\n",
        "print (\"Number of xss in train: \", xss)\n",
        "print (\"Number of sql in train\", sql)\n",
        "print (\"Number of anomalous in train: \", anomalous)\n",
        "print (\"Number of normal in train\", nor)\n",
        "\n",
        "\n",
        "sql=0\n",
        "xss=0\n",
        "nor=0\n",
        "for i in range(len(testY)):\n",
        "    if testY[i]==1:\n",
        "        xss+=1\n",
        "    elif testY[i]==2:\n",
        "        sql+=1\n",
        "    else:\n",
        "        nor +=1\n",
        "anomalous= xss+sql\n",
        "print (\"Number of xss  in test: \", xss)\n",
        "print (\"Number of sql in test\", sql)\n",
        "print (\"Number of anomalous in test: \", anomalous)\n",
        "print (\"Number of normal in test\", nor)"
      ],
      "execution_count": null,
      "outputs": [
        {
          "output_type": "stream",
          "text": [
            "Number of xss in train:  49297\n",
            "Number of sql in train 71707\n",
            "Number of anomalous in train:  121004\n",
            "Number of normal in train 71529\n",
            "Number of xss  in test:  12121\n",
            "Number of sql in test 17761\n",
            "Number of anomalous in test:  29882\n",
            "Number of normal in test 18252\n"
          ],
          "name": "stdout"
        }
      ]
    },
    {
      "cell_type": "code",
      "metadata": {
        "id": "D_-nlYmiA-XM"
      },
      "source": [
        "nb_class=3\n",
        "#one host code\n",
        "trainY=np_utils.to_categorical(trainY,nb_class)\n",
        "test_Y=testY\n",
        "testY=np_utils.to_categorical(testY,nb_class)\n",
        "#y_test=np_utils.to_categorical(y_test,nb_class)"
      ],
      "execution_count": null,
      "outputs": []
    },
    {
      "cell_type": "code",
      "metadata": {
        "id": "uxVysyKW0KjC"
      },
      "source": [
        "# import libraries for Making Model\n",
        "#import tensorflow as tf\n",
        "from keras.models import Sequential\n",
        "from keras.layers import Dense, Activation, Conv2D, MaxPooling2D,Flatten,Dropout,MaxPool2D, BatchNormalization"
      ],
      "execution_count": null,
      "outputs": []
    },
    {
      "cell_type": "code",
      "metadata": {
        "id": "jKRYsE0L0NOa"
      },
      "source": [
        "# A basic CNN Model\n",
        "# Number of layers = 11\n",
        "# Number of Convolutional layer: 3\n",
        "\n",
        "model=tf.keras.models.Sequential([\n",
        "    \n",
        "    tf.keras.layers.Conv2D(64,(3,3), activation=tf.nn.relu, input_shape=(100,100,1)),\n",
        "    tf.keras.layers.MaxPooling2D(2,2),\n",
        "\n",
        "\n",
        "    tf.keras.layers.Conv2D(128,(3,3), activation='relu'),\n",
        "    tf.keras.layers.MaxPooling2D(2,2),\n",
        " \n",
        "\n",
        "    tf.keras.layers.Conv2D(256,(3,3), activation='relu'),\n",
        "    tf.keras.layers.MaxPooling2D(2,2),\n",
        " #  tf.keras.layers.Dropout(0.25),\n",
        " #  tf.keras.layers.BatchNormalization(),\n",
        "\n",
        "    tf.keras.layers.Flatten(),\n",
        "    tf.keras.layers.Dense(256, activation='relu'),\n",
        "    tf.keras.layers.Dense(128, activation='relu'),\n",
        "    tf.keras.layers.Dense(64, activation='relu'),\n",
        "    tf.keras.layers.Dense(3, activation='softmax')\n",
        "    \n",
        "])"
      ],
      "execution_count": null,
      "outputs": []
    },
    {
      "cell_type": "markdown",
      "metadata": {
        "id": "zW-gCgdC1L-H"
      },
      "source": [
        "- Adam: Trình tối ưu hóa triển khai thuật toán Adam.\n",
        "\n",
        " + Tối ưu hóa Adam là một phương pháp giảm độ dốc ngẫu nhiên dựa trên ước tính thích ứng của các khoảnh khắc bậc nhất và bậc hai.\n",
        "\n",
        " + Theo Kingma và cộng sự, 2014 , phương pháp này \" hiệu quả về mặt tính toán, yêu cầu ít bộ nhớ, bất biến với thay đổi tỷ lệ theo đường chéo của gradient và rất phù hợp cho các vấn đề lớn về dữ liệu / tham số \"."
      ]
    },
    {
      "cell_type": "code",
      "metadata": {
        "colab": {
          "base_uri": "https://localhost:8080/"
        },
        "id": "jVoK3cDq0V16",
        "outputId": "ee8f9ca1-6657-41c8-b141-1da87babd86e"
      },
      "source": [
        "model.compile(loss='categorical_crossentropy', \n",
        "              optimizer='adam', \n",
        "              metrics=['accuracy'])\n",
        "model.summary()"
      ],
      "execution_count": null,
      "outputs": [
        {
          "output_type": "stream",
          "text": [
            "Model: \"sequential\"\n",
            "_________________________________________________________________\n",
            "Layer (type)                 Output Shape              Param #   \n",
            "=================================================================\n",
            "conv2d (Conv2D)              (None, 98, 98, 64)        640       \n",
            "_________________________________________________________________\n",
            "max_pooling2d (MaxPooling2D) (None, 49, 49, 64)        0         \n",
            "_________________________________________________________________\n",
            "conv2d_1 (Conv2D)            (None, 47, 47, 128)       73856     \n",
            "_________________________________________________________________\n",
            "max_pooling2d_1 (MaxPooling2 (None, 23, 23, 128)       0         \n",
            "_________________________________________________________________\n",
            "conv2d_2 (Conv2D)            (None, 21, 21, 256)       295168    \n",
            "_________________________________________________________________\n",
            "max_pooling2d_2 (MaxPooling2 (None, 10, 10, 256)       0         \n",
            "_________________________________________________________________\n",
            "flatten (Flatten)            (None, 25600)             0         \n",
            "_________________________________________________________________\n",
            "dense (Dense)                (None, 256)               6553856   \n",
            "_________________________________________________________________\n",
            "dense_1 (Dense)              (None, 128)               32896     \n",
            "_________________________________________________________________\n",
            "dense_2 (Dense)              (None, 64)                8256      \n",
            "_________________________________________________________________\n",
            "dense_3 (Dense)              (None, 3)                 195       \n",
            "=================================================================\n",
            "Total params: 6,964,867\n",
            "Trainable params: 6,964,867\n",
            "Non-trainable params: 0\n",
            "_________________________________________________________________\n"
          ],
          "name": "stdout"
        }
      ]
    },
    {
      "cell_type": "code",
      "metadata": {
        "colab": {
          "base_uri": "https://localhost:8080/"
        },
        "id": "CW7i4zbx0cjD",
        "outputId": "025c1b1f-14c7-47eb-8b07-91c61ce77a5b"
      },
      "source": [
        "#batch_size = 128\n",
        "#num_epoch = 20\n",
        "#model training\n",
        "model_log = model.fit(trainX, trainY,\n",
        "          batch_size=128,\n",
        "          epochs=20,\n",
        "          verbose=1,\n",
        "          validation_data=(testX,testY)\n",
        " #           callbacks=[callbacks]\n",
        "                     )"
      ],
      "execution_count": null,
      "outputs": [
        {
          "output_type": "stream",
          "text": [
            "Epoch 1/20\n",
            "1505/1505 [==============================] - 352s 174ms/step - loss: 0.3143 - accuracy: 0.8757 - val_loss: 0.0656 - val_accuracy: 0.9803\n",
            "Epoch 2/20\n",
            "1505/1505 [==============================] - 234s 156ms/step - loss: 0.0594 - accuracy: 0.9829 - val_loss: 0.0380 - val_accuracy: 0.9889\n",
            "Epoch 3/20\n",
            "1505/1505 [==============================] - 234s 155ms/step - loss: 0.0353 - accuracy: 0.9899 - val_loss: 0.0229 - val_accuracy: 0.9932\n",
            "Epoch 4/20\n",
            "1505/1505 [==============================] - 233s 155ms/step - loss: 0.0258 - accuracy: 0.9927 - val_loss: 0.0222 - val_accuracy: 0.9940\n",
            "Epoch 5/20\n",
            " 921/1505 [=================>............] - ETA: 1:23 - loss: 0.0216 - accuracy: 0.9937"
          ],
          "name": "stdout"
        },
        {
          "output_type": "stream",
          "text": [
            "IOPub message rate exceeded.\n",
            "The notebook server will temporarily stop sending output\n",
            "to the client in order to avoid crashing it.\n",
            "To change this limit, set the config variable\n",
            "`--NotebookApp.iopub_msg_rate_limit`.\n",
            "\n",
            "Current values:\n",
            "NotebookApp.iopub_msg_rate_limit=1000.0 (msgs/sec)\n",
            "NotebookApp.rate_limit_window=3.0 (secs)\n",
            "\n"
          ],
          "name": "stderr"
        },
        {
          "output_type": "stream",
          "text": [
            "1505/1505 [==============================] - 233s 155ms/step - loss: 0.0156 - accuracy: 0.9957 - val_loss: 0.0166 - val_accuracy: 0.9953\n",
            "Epoch 8/20\n",
            "1505/1505 [==============================] - 233s 155ms/step - loss: 0.0147 - accuracy: 0.9961 - val_loss: 0.0138 - val_accuracy: 0.9964\n",
            "Epoch 9/20\n",
            "1505/1505 [==============================] - 233s 155ms/step - loss: 0.0112 - accuracy: 0.9969 - val_loss: 0.0135 - val_accuracy: 0.9962\n",
            "Epoch 10/20\n",
            "1505/1505 [==============================] - 233s 155ms/step - loss: 0.0093 - accuracy: 0.9976 - val_loss: 0.0180 - val_accuracy: 0.9953\n",
            "Epoch 11/20\n",
            "1505/1505 [==============================] - 233s 155ms/step - loss: 0.0098 - accuracy: 0.9973 - val_loss: 0.0164 - val_accuracy: 0.9961\n",
            "Epoch 12/20\n",
            "1505/1505 [==============================] - 233s 155ms/step - loss: 0.0093 - accuracy: 0.9976 - val_loss: 0.0157 - val_accuracy: 0.9962\n",
            "Epoch 13/20\n",
            "1505/1505 [==============================] - 233s 155ms/step - loss: 0.0078 - accuracy: 0.9980 - val_loss: 0.0142 - val_accuracy: 0.9965\n",
            "Epoch 14/20\n",
            "1505/1505 [==============================] - 233s 155ms/step - loss: 0.0078 - accuracy: 0.9978 - val_loss: 0.0174 - val_accuracy: 0.9960\n",
            "Epoch 15/20\n",
            "1505/1505 [==============================] - 233s 155ms/step - loss: 0.0072 - accuracy: 0.9979 - val_loss: 0.0199 - val_accuracy: 0.9949\n",
            "Epoch 16/20\n",
            "1505/1505 [==============================] - 233s 155ms/step - loss: 0.0074 - accuracy: 0.9980 - val_loss: 0.0152 - val_accuracy: 0.9960\n",
            "Epoch 17/20\n",
            "1505/1505 [==============================] - 233s 155ms/step - loss: 0.0061 - accuracy: 0.9983 - val_loss: 0.0207 - val_accuracy: 0.9950\n",
            "Epoch 18/20\n",
            "1505/1505 [==============================] - 233s 155ms/step - loss: 0.0070 - accuracy: 0.9981 - val_loss: 0.0182 - val_accuracy: 0.9962\n",
            "Epoch 19/20\n",
            "1505/1505 [==============================] - 233s 155ms/step - loss: 0.0053 - accuracy: 0.9984 - val_loss: 0.0166 - val_accuracy: 0.9962\n",
            "Epoch 20/20\n",
            "1505/1505 [==============================] - 233s 155ms/step - loss: 0.0053 - accuracy: 0.9987 - val_loss: 0.0175 - val_accuracy: 0.9964\n"
          ],
          "name": "stdout"
        }
      ]
    },
    {
      "cell_type": "code",
      "metadata": {
        "id": "cBkxqukQj0bk",
        "outputId": "956b2933-3192-4f70-ad2e-51a1e4ce0c57"
      },
      "source": [
        "model.save('/floyd/home/model lan_2')"
      ],
      "execution_count": null,
      "outputs": [
        {
          "output_type": "stream",
          "text": [
            "INFO:tensorflow:Assets written to: /floyd/home/model lan_2/assets\n"
          ],
          "name": "stdout"
        }
      ]
    },
    {
      "cell_type": "code",
      "metadata": {
        "id": "zwobyygxlE9L"
      },
      "source": [
        "#model = keras.models.load_model('home/model xss-sql')"
      ],
      "execution_count": null,
      "outputs": []
    },
    {
      "cell_type": "code",
      "metadata": {
        "id": "STDiHuMM0iOj"
      },
      "source": [
        "# predict for test set\n",
        "p=model.predict(testX)"
      ],
      "execution_count": null,
      "outputs": []
    },
    {
      "cell_type": "code",
      "metadata": {
        "colab": {
          "base_uri": "https://localhost:8080/"
        },
        "id": "Xe-owuaPxDyL",
        "outputId": "fed32e42-daf9-48ef-f851-ceaf597a1460"
      },
      "source": [
        "p[10]"
      ],
      "execution_count": null,
      "outputs": [
        {
          "output_type": "execute_result",
          "data": {
            "text/plain": [
              "array([3.7830152e-21, 1.0000000e+00, 3.2829111e-18], dtype=float32)"
            ]
          },
          "metadata": {
            "tags": []
          },
          "execution_count": 39
        }
      ]
    },
    {
      "cell_type": "code",
      "metadata": {
        "id": "nuWLXZmr3lKs",
        "outputId": "eff703da-32ce-4127-cc17-6624f9cddcc9"
      },
      "source": [
        "len(p)"
      ],
      "execution_count": null,
      "outputs": [
        {
          "output_type": "execute_result",
          "data": {
            "text/plain": [
              "48134"
            ]
          },
          "metadata": {
            "tags": []
          },
          "execution_count": 40
        }
      ]
    },
    {
      "cell_type": "code",
      "metadata": {
        "id": "efYJnSxjIvfU"
      },
      "source": [
        "pred=np.zeros(len(p))\n",
        "for i in range(len(p)):\n",
        "    pred[i]=np.argmax(p[i])"
      ],
      "execution_count": null,
      "outputs": []
    },
    {
      "cell_type": "code",
      "metadata": {
        "id": "j277qEys3lKt",
        "outputId": "35e1baea-57e5-4dc2-f0ed-80c7b5ea67e5"
      },
      "source": [
        "pred[1]"
      ],
      "execution_count": null,
      "outputs": [
        {
          "output_type": "execute_result",
          "data": {
            "text/plain": [
              "0.0"
            ]
          },
          "metadata": {
            "tags": []
          },
          "execution_count": 42
        }
      ]
    },
    {
      "cell_type": "code",
      "metadata": {
        "id": "cyKN465z3lKt",
        "outputId": "9753b7f9-4229-40fb-c530-343969645111"
      },
      "source": [
        "# Số dự đoán đúng và sai\n",
        "truex=0\n",
        "truen=0\n",
        "trues=0\n",
        "false=0\n",
        "a=0\n",
        "b=0\n",
        "c=0\n",
        "d=0\n",
        "e=0\n",
        "f=0\n",
        "for i in range(len(pred)):\n",
        "    if pred[i] == test_Y[i] and pred[i]==0:\n",
        "        truen+=1\n",
        "    elif pred[i] == test_Y[i] and pred[i]==1:\n",
        "        truex+=1    \n",
        "    elif pred[i] == test_Y[i] and pred[i]==2:\n",
        "        trues+=1\n",
        "        \n",
        "    else:\n",
        "        false+=1\n",
        "        if test_Y[i]==0:\n",
        "            if pred[i]==1:\n",
        "                a+=1\n",
        "            elif pred[i]==2:\n",
        "                b+=1\n",
        "        elif test_Y[i]==1 and pred[i]==0:\n",
        "            c+=1\n",
        "        elif test_Y[i]==1 and pred[i]==2:\n",
        "            d+=1\n",
        "        elif test_Y[i]==2 and pred[i]==1:\n",
        "            e+=1\n",
        "        elif test_Y[i]==2 and pred[i]==0:\n",
        "            f+=1\n",
        "print(\"correct predicted normal :: \", truen)\n",
        "print(\"correct predicted xss :: \", truex)\n",
        "print(\"correct predicted sql :: \", trues)\n",
        "print(\"false prediction :: \", false)\n",
        "print (a,b,c,e,f)"
      ],
      "execution_count": null,
      "outputs": [
        {
          "output_type": "stream",
          "text": [
            "correct predicted normal ::  18216\n",
            "correct predicted xss ::  12012\n",
            "correct predicted sql ::  17734\n",
            "false prediction ::  172\n",
            "27 9 86 9 18\n"
          ],
          "name": "stdout"
        }
      ]
    },
    {
      "cell_type": "code",
      "metadata": {
        "id": "3ZJklMzX3lKu",
        "outputId": "5eebd83a-8d49-4d83-f2ae-6a473a9dfd65"
      },
      "source": [
        "# Số lượng dữ liệu lành tính hay anomalous trong tập test (đã in ở trên r)\n",
        "attack=0\n",
        "benign=0\n",
        "for i in range(len(testY)):\n",
        "    if test_Y[i]==1 or test_Y[i]==2:\n",
        "        attack+=1\n",
        "    else:\n",
        "        benign+=1\n",
        "\n",
        "print(\"Attack data in test set :: \", attack)\n",
        "print(\" Benign data in test set :: \", benign)"
      ],
      "execution_count": null,
      "outputs": [
        {
          "output_type": "stream",
          "text": [
            "Attack data in test set ::  29882\n",
            " Benign data in test set ::  18252\n"
          ],
          "name": "stdout"
        }
      ]
    },
    {
      "cell_type": "code",
      "metadata": {
        "id": "qqvamZmo3lKu"
      },
      "source": [
        "# Takes True positive, true negative, false positive and false negative as input\n",
        "# Returns Accuracy\n",
        "\n",
        "def accuracy_function(tp,tn,fp,fn):\n",
        "    \n",
        "    accuracy = (tp+tn) / (tp+tn+fp+fn)\n",
        "    \n",
        "    return accuracy"
      ],
      "execution_count": null,
      "outputs": []
    },
    {
      "cell_type": "code",
      "metadata": {
        "id": "TnnqBXjW3lKu"
      },
      "source": [
        "# Takes True Positive and false positive\n",
        "# Returns Precision\n",
        "\n",
        "def precision_function(tp,fp):\n",
        "    \n",
        "    precision = tp / (tp+fp)\n",
        "    \n",
        "    return precision"
      ],
      "execution_count": null,
      "outputs": []
    },
    {
      "cell_type": "code",
      "metadata": {
        "id": "IgN2_LMq3lKv"
      },
      "source": [
        "#Takes True Positive and false negative\n",
        "# Returns Recall\n",
        "\n",
        "def recall_function(tp,fn):\n",
        "    \n",
        "    recall=tp / (tp+fn)\n",
        "    \n",
        "    return recall"
      ],
      "execution_count": null,
      "outputs": []
    },
    {
      "cell_type": "code",
      "metadata": {
        "id": "NptO_QbX1tP7"
      },
      "source": [
        "#Takes true values and predicted\n",
        "# Returns Accuracy, precision and recall\n",
        "\n",
        "\n",
        "def confusion_matrix(truth,predicted):\n",
        "    \n",
        "    true_positive = 0   #gan TP = 0\n",
        "    true_negative = 0   #gan TN = 0\n",
        "    false_positive = 0  #gan FP = 0\n",
        "    false_negative = 0  #gan FN = 0\n",
        "    for true,pred in zip(truth,predicted):\n",
        "        if true == 1 or true == 2:\n",
        "            if pred == true:\n",
        "                true_positive += 1\n",
        "            elif pred != true:\n",
        "                false_negative += 1\n",
        "\n",
        "        elif true == 0:\n",
        "            if pred == true:\n",
        "                true_negative += 1\n",
        "            elif pred != true:\n",
        "                false_positive += 1\n",
        "    print(\"TP: \",true_positive)\n",
        "    print(\"FN: \",false_negative)\n",
        "    print(\"TN: \",true_negative)\n",
        "    print(\"FP: \",false_positive)\n",
        "      \n",
        "    accuracy=accuracy_function(true_positive, true_negative, false_positive, false_negative)\n",
        "    precision=precision_function(true_positive, false_positive)\n",
        "    recall=recall_function(true_positive, false_negative)\n",
        " \n",
        "    return (accuracy,\n",
        "            precision,\n",
        "           recall)"
      ],
      "execution_count": null,
      "outputs": []
    },
    {
      "cell_type": "code",
      "metadata": {
        "colab": {
          "base_uri": "https://localhost:8080/"
        },
        "id": "dFxuIdpb1vtj",
        "outputId": "6dc390f3-3794-4a36-8706-4e71e4c67e1a"
      },
      "source": [
        "accuracy,precision,recall=confusion_matrix(test_Y,pred)"
      ],
      "execution_count": null,
      "outputs": [
        {
          "output_type": "stream",
          "text": [
            "TP:  29746\n",
            "FN:  136\n",
            "TN:  18216\n",
            "FP:  36\n"
          ],
          "name": "stdout"
        }
      ]
    },
    {
      "cell_type": "code",
      "metadata": {
        "colab": {
          "base_uri": "https://localhost:8080/"
        },
        "id": "qjmY8XNr1xaD",
        "outputId": "f2449c9e-4511-443a-d74f-d00e012d3279"
      },
      "source": [
        "print(\"\\n Accuracy : {0} \\n Precision : {1} \\n Recall : {2} \".format(accuracy, precision, recall)) "
      ],
      "execution_count": null,
      "outputs": [
        {
          "output_type": "stream",
          "text": [
            "\n",
            " Accuracy : 0.996426642290273 \n",
            " Precision : 0.9987912161708414 \n",
            " Recall : 0.9954487651428954 \n"
          ],
          "name": "stdout"
        }
      ]
    },
    {
      "cell_type": "code",
      "metadata": {
        "id": "goST0caH3lKw"
      },
      "source": [
        "from sklearn.metrics import f1_score\n",
        "f1_score_val = f1_score(test_Y, pred, average=None)"
      ],
      "execution_count": null,
      "outputs": []
    },
    {
      "cell_type": "code",
      "metadata": {
        "id": "S0QxrU1J3lKw"
      },
      "source": [
        "f1_score_micro= f1_score(test_Y, pred, average='micro')"
      ],
      "execution_count": null,
      "outputs": []
    },
    {
      "cell_type": "code",
      "metadata": {
        "id": "gfDUmtgN3lKw"
      },
      "source": [
        "f1_score_macro=f1_score(test_Y, pred, average='macro')\n",
        "\n",
        "f1_score_weighted=f1_score(test_Y, pred, average='weighted')"
      ],
      "execution_count": null,
      "outputs": []
    },
    {
      "cell_type": "code",
      "metadata": {
        "id": "UoTHv60a3lKw",
        "outputId": "91623944-45d5-4e57-fd7f-1a4e63db5621"
      },
      "source": [
        "print(\"\\n f1_score_val: {0} \\n f1_score_micro : {1} \\n f1_score_macro : {2} \\n f1_score_weighted {3}\".format(f1_score_val, f1_score_micro, f1_score_macro, f1_score_weighted))"
      ],
      "execution_count": null,
      "outputs": [
        {
          "output_type": "stream",
          "text": [
            "\n",
            " f1_score_val: [0.99617193 0.99400058 0.99833929] \n",
            " f1_score_micro : 0.996426642290273 \n",
            " f1_score_macro : 0.996170601770405 \n",
            " f1_score_weighted 0.9964248831830104\n"
          ],
          "name": "stdout"
        }
      ]
    },
    {
      "cell_type": "code",
      "metadata": {
        "colab": {
          "base_uri": "https://localhost:8080/",
          "height": 298
        },
        "id": "VR-3WPhd3GJw",
        "outputId": "b8dffb36-120c-46c8-c35c-561665ccab22"
      },
      "source": [
        "# vẽ đồ thị\n",
        "import matplotlib.pyplot as plt\n",
        "acc= model_log.history['accuracy']\n",
        "val_acc = model_log.history['val_accuracy']\n",
        "loss = model_log.history['loss']\n",
        "val_loss = model_log.history['val_loss']\n",
        "epochs= range(1,len(acc)+1)\n",
        "plt.plot(epochs,acc,'b',label='training accuracy',c='green')\n",
        "plt.plot(epochs,val_acc,'b',label='validation accuracy')\n",
        "plt.title(\"Training and validation accuracy\", c='red')\n",
        "plt.legend()\n",
        "plt.figure()\n",
        "plt.show()"
      ],
      "execution_count": null,
      "outputs": [
        {
          "output_type": "display_data",
          "data": {
            "image/png": "[encoded data removed]",
            "text/plain": [
              "<Figure size 432x288 with 1 Axes>"
            ]
          },
          "metadata": {
            "tags": [],
            "needs_background": "light"
          }
        },
        {
          "output_type": "display_data",
          "data": {
            "text/plain": [
              "<Figure size 432x288 with 0 Axes>"
            ]
          },
          "metadata": {
            "tags": []
          }
        }
      ]
    },
    {
      "cell_type": "code",
      "metadata": {
        "id": "qK9UI-t63lKx",
        "outputId": "5ad3a6fe-98c3-48aa-e884-a18a3bc8ac60"
      },
      "source": [
        "from sklearn import metrics\n",
        "\n",
        "# Print the confusion matrix\n",
        "print(metrics.confusion_matrix(test_Y, pred))\n",
        "\n",
        "# Print the precision and recall, among other metrics\n",
        "print(metrics.classification_report(test_Y, pred,target_names=['Normal', 'XSS', 'SQL'], digits=3))"
      ],
      "execution_count": null,
      "outputs": [
        {
          "output_type": "stream",
          "text": [
            "[[18216    27     9]\n",
            " [   86 12012    23]\n",
            " [   18     9 17734]]\n",
            "              precision    recall  f1-score   support\n",
            "\n",
            "      Normal      0.994     0.998     0.996     18252\n",
            "         XSS      0.997     0.991     0.994     12121\n",
            "         SQL      0.998     0.998     0.998     17761\n",
            "\n",
            "    accuracy                          0.996     48134\n",
            "   macro avg      0.997     0.996     0.996     48134\n",
            "weighted avg      0.996     0.996     0.996     48134\n",
            "\n"
          ],
          "name": "stdout"
        }
      ]
    },
    {
      "cell_type": "code",
      "metadata": {
        "id": "HmABncIY3lKx",
        "outputId": "f0569608-845d-4e05-b5cd-88eeaa1d664b"
      },
      "source": [
        "from sklearn.metrics import confusion_matrix\n",
        "cnf_matrix = confusion_matrix(test_Y, pred)\n",
        "print('Confusion matrix:')\n",
        "print(cnf_matrix)"
      ],
      "execution_count": null,
      "outputs": [
        {
          "output_type": "stream",
          "text": [
            "Confusion matrix:\n",
            "[[18216    27     9]\n",
            " [   86 12012    23]\n",
            " [   18     9 17734]]\n"
          ],
          "name": "stdout"
        }
      ]
    },
    {
      "cell_type": "code",
      "metadata": {
        "id": "34BcBS673lKy",
        "outputId": "aa0f5474-3024-4cc7-e57c-20408a4a92e0"
      },
      "source": [
        "import matplotlib.pyplot as plt\n",
        "import itertools\n",
        "def plot_confusion_matrix(cm, classes,\n",
        "                          normalize=False,\n",
        "                          title='Confusion matrix',\n",
        "                          cmap=plt.cm.Blues):\n",
        "    if normalize:\n",
        "        cm = cm.astype('float') / cm.sum(axis=1, keepdims = True)\n",
        "\n",
        "    plt.imshow(cm, interpolation='nearest', cmap=cmap)\n",
        "    plt.title(title)\n",
        "    plt.colorbar()\n",
        "    tick_marks = np.arange(len(classes))\n",
        "    plt.xticks(tick_marks, classes, rotation=45)\n",
        "    plt.yticks(tick_marks, classes)\n",
        "\n",
        "    fmt = '.2f' if normalize else 'd'\n",
        "    thresh = cm.max() / 2.\n",
        "    for i, j in itertools.product(range(cm.shape[0]), range(cm.shape[1])):\n",
        "        plt.text(j, i, format(cm[i, j], fmt),\n",
        "                 horizontalalignment=\"center\",\n",
        "                 color=\"white\" if cm[i, j] > thresh else \"black\")\n",
        "\n",
        "    plt.tight_layout()\n",
        "    plt.ylabel('True label')\n",
        "    plt.xlabel('Predicted label')\n",
        "\n",
        "# Plot non-normalized confusion matrix\n",
        "class_names = ['Normal', 'XSS', 'SQL']\n",
        "plt.figure()\n",
        "plot_confusion_matrix(cnf_matrix, classes=class_names,\n",
        "                      title='Confusion matrix, without normalization')\n",
        "\n",
        "# Plot normalized confusion matrix\n",
        "plt.figure()\n",
        "plot_confusion_matrix(cnf_matrix, classes=class_names, normalize=True,\n",
        "                      title='Normalized confusion matrix')\n",
        "\n",
        "plt.show()"
      ],
      "execution_count": null,
      "outputs": [
        {
          "output_type": "display_data",
          "data": {
            "image/png": "[encoded data removed]",
            "text/plain": [
              "<Figure size 432x288 with 2 Axes>"
            ]
          },
          "metadata": {
            "tags": [],
            "needs_background": "light"
          }
        },
        {
          "output_type": "display_data",
          "data": {
            "image/png": "[encoded data removed]",
            "text/plain": [
              "<Figure size 432x288 with 2 Axes>"
            ]
          },
          "metadata": {
            "tags": [],
            "needs_background": "light"
          }
        }
      ]
    },
    {
      "cell_type": "code",
      "metadata": {
        "id": "uDljDaJD3lKy",
        "outputId": "663249b7-8ae9-4549-f577-e5016c66b4a7"
      },
      "source": [
        "from sklearn.metrics import confusion_matrix\n",
        "#confusion = confusion_matrix(testX, pred)\n",
        "print('Confusion Matrix\\n')\n",
        "#print(confusion)\n",
        "\n",
        "#importing accuracy_score, precision_score, recall_score, f1_score\n",
        "from sklearn.metrics import accuracy_score, precision_score, recall_score, f1_score\n",
        "print('\\nAccuracy: {:.10f}\\n'.format(accuracy_score(test_Y, pred)))\n",
        "\n",
        "print('Micro Precision: {:.10f}'.format(precision_score(test_Y, pred, average='micro')))\n",
        "print('Micro Recall: {:.10f}'.format(recall_score(test_Y, pred, average='micro')))\n",
        "print('Micro F1-score: {:.10f}\\n'.format(f1_score(test_Y, pred, average='micro')))\n",
        "\n",
        "print('Macro Precision: {:.10f}'.format(precision_score(test_Y, pred, average='macro')))\n",
        "print('Macro Recall: {:.10f}'.format(recall_score(test_Y, pred, average='macro')))\n",
        "print('Macro F1-score: {:.10f}\\n'.format(f1_score(test_Y, pred, average='macro')))\n",
        "\n",
        "print('Weighted Precision: {:.10f}'.format(precision_score(test_Y, pred, average='weighted')))\n",
        "print('Weighted Recall: {:.10f}'.format(recall_score(test_Y, pred, average='weighted')))\n",
        "print('Weighted F1-score: {:.20f}'.format(f1_score(test_Y, pred, average='weighted')))\n",
        "\n",
        "from sklearn.metrics import classification_report\n",
        "print('\\nClassification Report\\n')\n",
        "print(classification_report(test_Y, pred, target_names=['Normal', 'XSS', 'SQL']))"
      ],
      "execution_count": null,
      "outputs": [
        {
          "output_type": "stream",
          "text": [
            "Confusion Matrix\n",
            "\n",
            "\n",
            "Accuracy: 0.9964266423\n",
            "\n",
            "Micro Precision: 0.9964266423\n",
            "Micro Recall: 0.9964266423\n",
            "Micro F1-score: 0.9964266423\n",
            "\n",
            "Macro Precision: 0.9965113010\n",
            "Macro Recall: 0.9958382571\n",
            "Macro F1-score: 0.9961706018\n",
            "\n",
            "Weighted Precision: 0.9964303175\n",
            "Weighted Recall: 0.9964266423\n",
            "Weighted F1-score: 0.99642488318301036809\n",
            "\n",
            "Classification Report\n",
            "\n",
            "              precision    recall  f1-score   support\n",
            "\n",
            "      Normal       0.99      1.00      1.00     18252\n",
            "         XSS       1.00      0.99      0.99     12121\n",
            "         SQL       1.00      1.00      1.00     17761\n",
            "\n",
            "    accuracy                           1.00     48134\n",
            "   macro avg       1.00      1.00      1.00     48134\n",
            "weighted avg       1.00      1.00      1.00     48134\n",
            "\n"
          ],
          "name": "stdout"
        }
      ]
    },
    {
      "cell_type": "code",
      "metadata": {
        "id": "somFvsHM3lKy"
      },
      "source": [
        "from sklearn.metrics import f1_score\n",
        "f1_score_val = f1_score(test_Y, pred, average=None)\n",
        "f1_score_micro= f1_score(test_Y, pred, average='micro')\n",
        "f1_score_macro=f1_score(test_Y, pred, average='macro')\n",
        "f1_score_weighted=f1_score(test_Y, pred, average='weighted')\n"
      ],
      "execution_count": null,
      "outputs": []
    },
    {
      "cell_type": "code",
      "metadata": {
        "id": "BytMY5QE3lKy",
        "outputId": "44546749-7171-4b1e-abb8-43780301ab80"
      },
      "source": [
        "print(\"\\n f1_score_val: {0} \\n f1_score_micro : {1} \\n f1_score_macro : {2} \\n f1_score_weighted {3}\".format(f1_score_val, f1_score_micro, f1_score_macro, f1_score_weighted))"
      ],
      "execution_count": null,
      "outputs": [
        {
          "output_type": "stream",
          "text": [
            "\n",
            " f1_score_val: [0.99617193 0.99400058 0.99833929] \n",
            " f1_score_micro : 0.996426642290273 \n",
            " f1_score_macro : 0.996170601770405 \n",
            " f1_score_weighted 0.9964248831830104\n"
          ],
          "name": "stdout"
        }
      ]
    },
    {
      "cell_type": "code",
      "metadata": {
        "id": "f-jUBjht3lKz"
      },
      "source": [
        "pd.DataFrame(pred).to_csv(\"/floyd/home/pred1.csv\",index=None,header=None)\n",
        "#c=pd.read_csv('/content/drive/MyDrive/DATA-6/c.csv',header=None)"
      ],
      "execution_count": null,
      "outputs": []
    },
    {
      "cell_type": "code",
      "metadata": {
        "id": "9Uki9oSQ3lKz"
      },
      "source": [
        ""
      ],
      "execution_count": null,
      "outputs": []
    },
    {
      "cell_type": "code",
      "metadata": {
        "id": "T3QhSbsg3lKz"
      },
      "source": [
        ""
      ],
      "execution_count": null,
      "outputs": []
    }
  ]
}